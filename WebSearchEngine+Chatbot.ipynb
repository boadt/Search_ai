{
 "cells": [
  {
   "cell_type": "code",
   "execution_count": 1,
   "id": "5dcf6fd0",
   "metadata": {},
   "outputs": [],
   "source": [
    "#!pip install -qU tavily-python langchain_community langchain_anthropic langgraph langchain_openai"
   ]
  },
  {
   "cell_type": "code",
   "execution_count": null,
   "id": "10b6b0da",
   "metadata": {},
   "outputs": [],
   "source": [
    "import os\n",
    "os.environ[\"TAVILY_API_KEY\"] = \"tvly...\"\n",
    "\n",
    "from tavily import TavilyClient\n",
    "\n",
    "tavily_client = TavilyClient()"
   ]
  },
  {
   "cell_type": "code",
   "execution_count": 3,
   "id": "56f21c37",
   "metadata": {},
   "outputs": [
    {
     "name": "stdout",
     "output_type": "stream",
     "text": [
      "{'query': 'What is AI agent?', 'follow_up_questions': None, 'answer': None, 'images': [], 'results': [{'title': 'What Are AI Agents? - IBM', 'url': 'https://www.ibm.com/think/topics/ai-agents', 'content': \"# What are AI agents? ## What are AI agents? The agent's ability to store past interactions in memory and plan future actions encourages a personalized experience and comprehensive responses.1 This tool calling can be achieved without human intervention and broadens the possibilities for real-world applications of these AI systems. Given the user's goals and the agent’s available tools, the AI agent then performs task decomposition to improve performance.3 Essentially, the agent creates a plan of specific tasks and subtasks to accomplish the complex goal. In contrast, agentic AI chatbots learn to adapt to user expectations over time, providing a more personalized experience and comprehensive responses. AI agents are AI tools that can automate complex tasks that would otherwise require human resources.\", 'score': 0.92091084, 'raw_content': None}, {'title': 'What is an AI agent?', 'url': 'https://cloud.google.com/discover/what-are-ai-agents', 'content': 'AI agents can process multimodal information like text, voice, video, audio, code, and more simultaneously; can converse, reason, learn, and make decisions. *   **Acting**: The ability to take action or perform tasks based on decisions, plans, or external input is crucial for AI agents to interact with their environment and achieve goals. **AI assistants** are AI agents designed as applications or products to collaborate directly with users and perform tasks by understanding and responding to natural human language and inputs. Google Cloud and AI agents Google Cloud provides a portfolio of products and solutions in the AI agent space. *   Why Google Cloud *   Generative AI on Google Cloud *   Google Cloud Databases', 'score': 0.8839694, 'raw_content': None}, {'title': \"AI agents — what they are, and how they'll change the way we work\", 'url': 'https://news.microsoft.com/source/features/ai/ai-agents-what-they-are-and-how-theyll-change-the-way-we-work/', 'content': '“Think of agents as the new apps for an AI-powered world,” says Jared Spataro, Microsoft’s chief marketing officer for AI at Work. You can use ready-made agents in Microsoft 365 and Dynamics 365, or build custom agents to help with more specific needs in Copilot Studio. You can already create and publish agents in Microsoft 365 Copilot that can help you in your daily work as easily as you’d create a spreadsheet or presentation — no coding skills required. There are extra safety considerations with agents that can act autonomously, and Microsoft is focused on making sure agents only access what you want them to, says Sarah Bird, the company’s chief product officer of Responsible AI.', 'score': 0.650934, 'raw_content': None}], 'response_time': 1.87}\n"
     ]
    }
   ],
   "source": [
    "response = tavily_client.search(\"What is AI agent?\", max_results=3)\n",
    "print(response)"
   ]
  },
  {
   "cell_type": "code",
   "execution_count": 4,
   "id": "83c397df",
   "metadata": {},
   "outputs": [
    {
     "data": {
      "text/plain": [
       "[{'title': 'What Are AI Agents? - IBM',\n",
       "  'url': 'https://www.ibm.com/think/topics/ai-agents',\n",
       "  'content': \"# What are AI agents? ## What are AI agents? The agent's ability to store past interactions in memory and plan future actions encourages a personalized experience and comprehensive responses.1 This tool calling can be achieved without human intervention and broadens the possibilities for real-world applications of these AI systems. Given the user's goals and the agent’s available tools, the AI agent then performs task decomposition to improve performance.3 Essentially, the agent creates a plan of specific tasks and subtasks to accomplish the complex goal. In contrast, agentic AI chatbots learn to adapt to user expectations over time, providing a more personalized experience and comprehensive responses. AI agents are AI tools that can automate complex tasks that would otherwise require human resources.\",\n",
       "  'score': 0.92091084,\n",
       "  'raw_content': None},\n",
       " {'title': 'What is an AI agent?',\n",
       "  'url': 'https://cloud.google.com/discover/what-are-ai-agents',\n",
       "  'content': 'AI agents can process multimodal information like text, voice, video, audio, code, and more simultaneously; can converse, reason, learn, and make decisions. *   **Acting**: The ability to take action or perform tasks based on decisions, plans, or external input is crucial for AI agents to interact with their environment and achieve goals. **AI assistants** are AI agents designed as applications or products to collaborate directly with users and perform tasks by understanding and responding to natural human language and inputs. Google Cloud and AI agents Google Cloud provides a portfolio of products and solutions in the AI agent space. *   Why Google Cloud *   Generative AI on Google Cloud *   Google Cloud Databases',\n",
       "  'score': 0.8839694,\n",
       "  'raw_content': None},\n",
       " {'title': \"AI agents — what they are, and how they'll change the way we work\",\n",
       "  'url': 'https://news.microsoft.com/source/features/ai/ai-agents-what-they-are-and-how-theyll-change-the-way-we-work/',\n",
       "  'content': '“Think of agents as the new apps for an AI-powered world,” says Jared Spataro, Microsoft’s chief marketing officer for AI at Work. You can use ready-made agents in Microsoft 365 and Dynamics 365, or build custom agents to help with more specific needs in Copilot Studio. You can already create and publish agents in Microsoft 365 Copilot that can help you in your daily work as easily as you’d create a spreadsheet or presentation — no coding skills required. There are extra safety considerations with agents that can act autonomously, and Microsoft is focused on making sure agents only access what you want them to, says Sarah Bird, the company’s chief product officer of Responsible AI.',\n",
       "  'score': 0.650934,\n",
       "  'raw_content': None}]"
      ]
     },
     "execution_count": 4,
     "metadata": {},
     "output_type": "execute_result"
    }
   ],
   "source": [
    "response['results']"
   ]
  },
  {
   "cell_type": "code",
   "execution_count": 5,
   "id": "f39648c7",
   "metadata": {},
   "outputs": [
    {
     "name": "stdout",
     "output_type": "stream",
     "text": [
      "[{\"url\": \"https://www.ibm.com/think/topics/ai-agents\", \"content\": \"# What are AI agents? ## What are AI agents? The agent's ability to store past interactions in memory and plan future actions encourages a personalized experience and comprehensive responses.1 This tool calling can be achieved without human intervention and broadens the possibilities for real-world applications of these AI systems. Given the user's goals and the agent\\u2019s available tools, the AI agent then performs task decomposition to improve performance.3 Essentially, the agent creates a plan of specific tasks and subtasks to accomplish the complex goal. In contrast, agentic AI chatbots learn to adapt to user expectations over time, providing a more personalized experience and comprehensive responses. AI agents are AI tools that can automate complex tasks that would otherwise require human resources.\"}, {\"url\": \"https://cloud.google.com/discover/what-are-ai-agents\", \"content\": \"AI agents can process multimodal information like text, voice, video, audio, code, and more simultaneously; can converse, reason, learn, and make decisions. *   **Acting**: The ability to take action or perform tasks based on decisions, plans, or external input is crucial for AI agents to interact with their environment and achieve goals. **AI assistants** are AI agents designed as applications or products to collaborate directly with users and perform tasks by understanding and responding to natural human language and inputs. Google Cloud and AI agents Google Cloud provides a portfolio of products and solutions in the AI agent space. *   Why Google Cloud *   Generative AI on Google Cloud *   Google Cloud Databases\"}, {\"url\": \"https://www.infor.com/platform/enterprise-ai/what-are-ai-agents\", \"content\": \"What Are AI Agents? What are AI agents? What are AI agents? *   AI agent industry examples AI agents can problem-solve, make decisions, and execute actions without human intervention. **Example**: An AI-powered procurement agent that manages the complete procurement cycle on its own, by using data to find the best suppliers, negotiating prices, securing contracts, and placing purchase orders. AI agent examples in different industries AI agents can go beyond standard data analytics to autonomously orchestrate workflows, track and ensure compliance, and tweak supply chain operations in real time. Instead of relying on scheduled reporting, AI agents can make data-driven decision on their own. See how trusted AI agents in Infor GenAI Assistant can support your projects, products, contracts, workforce, and more. Explore Infor AI agents\"}, {\"url\": \"https://news.microsoft.com/source/features/ai/ai-agents-what-they-are-and-how-theyll-change-the-way-we-work/\", \"content\": \"\\u201cThink of agents as the new apps for an AI-powered world,\\u201d says Jared Spataro, Microsoft\\u2019s chief marketing officer for AI at Work. You can use ready-made agents in Microsoft 365 and Dynamics 365, or build custom agents to help with more specific needs in Copilot Studio. You can already create and publish agents in Microsoft 365 Copilot that can help you in your daily work as easily as you\\u2019d create a spreadsheet or presentation \\u2014 no coding skills required. There are extra safety considerations with agents that can act autonomously, and Microsoft is focused on making sure agents only access what you want them to, says Sarah Bird, the company\\u2019s chief product officer of Responsible AI.\"}]\n"
     ]
    }
   ],
   "source": [
    "context = tavily_client.get_search_context(query=\"What is AI agent?\", )\n",
    "print(context)"
   ]
  },
  {
   "cell_type": "code",
   "execution_count": 6,
   "id": "c984d32e",
   "metadata": {},
   "outputs": [
    {
     "data": {
      "text/plain": [
       "'[{\"url\": \"https://www.ibm.com/think/topics/ai-agents\", \"content\": \"# What are AI agents? ## What are AI agents? The agent\\'s ability to store past interactions in memory and plan future actions encourages a personalized experience and comprehensive responses.1 This tool calling can be achieved without human intervention and broadens the possibilities for real-world applications of these AI systems. Given the user\\'s goals and the agent\\\\u2019s available tools, the AI agent then performs task decomposition to improve performance.3 Essentially, the agent creates a plan of specific tasks and subtasks to accomplish the complex goal. In contrast, agentic AI chatbots learn to adapt to user expectations over time, providing a more personalized experience and comprehensive responses. AI agents are AI tools that can automate complex tasks that would otherwise require human resources.\"}, {\"url\": \"https://cloud.google.com/discover/what-are-ai-agents\", \"content\": \"AI agents can process multimodal information like text, voice, video, audio, code, and more simultaneously; can converse, reason, learn, and make decisions. *   **Acting**: The ability to take action or perform tasks based on decisions, plans, or external input is crucial for AI agents to interact with their environment and achieve goals. **AI assistants** are AI agents designed as applications or products to collaborate directly with users and perform tasks by understanding and responding to natural human language and inputs. Google Cloud and AI agents Google Cloud provides a portfolio of products and solutions in the AI agent space. *   Why Google Cloud *   Generative AI on Google Cloud *   Google Cloud Databases\"}, {\"url\": \"https://www.infor.com/platform/enterprise-ai/what-are-ai-agents\", \"content\": \"What Are AI Agents? What are AI agents? What are AI agents? *   AI agent industry examples AI agents can problem-solve, make decisions, and execute actions without human intervention. **Example**: An AI-powered procurement agent that manages the complete procurement cycle on its own, by using data to find the best suppliers, negotiating prices, securing contracts, and placing purchase orders. AI agent examples in different industries AI agents can go beyond standard data analytics to autonomously orchestrate workflows, track and ensure compliance, and tweak supply chain operations in real time. Instead of relying on scheduled reporting, AI agents can make data-driven decision on their own. See how trusted AI agents in Infor GenAI Assistant can support your projects, products, contracts, workforce, and more. Explore Infor AI agents\"}, {\"url\": \"https://news.microsoft.com/source/features/ai/ai-agents-what-they-are-and-how-theyll-change-the-way-we-work/\", \"content\": \"\\\\u201cThink of agents as the new apps for an AI-powered world,\\\\u201d says Jared Spataro, Microsoft\\\\u2019s chief marketing officer for AI at Work. You can use ready-made agents in Microsoft 365 and Dynamics 365, or build custom agents to help with more specific needs in Copilot Studio. You can already create and publish agents in Microsoft 365 Copilot that can help you in your daily work as easily as you\\\\u2019d create a spreadsheet or presentation \\\\u2014 no coding skills required. There are extra safety considerations with agents that can act autonomously, and Microsoft is focused on making sure agents only access what you want them to, says Sarah Bird, the company\\\\u2019s chief product officer of Responsible AI.\"}]'"
      ]
     },
     "execution_count": 6,
     "metadata": {},
     "output_type": "execute_result"
    }
   ],
   "source": [
    "context"
   ]
  },
  {
   "cell_type": "code",
   "execution_count": 7,
   "id": "ccf36a52",
   "metadata": {},
   "outputs": [
    {
     "name": "stdout",
     "output_type": "stream",
     "text": [
      "An AI agent is an autonomous system that performs tasks and makes decisions based on data. It operates independently and can adapt over time. AI agents automate processes and enhance efficiency.\n"
     ]
    }
   ],
   "source": [
    "answer = tavily_client.qna_search(\n",
    "    query=\"What is AI agent?\",)\n",
    "print(answer)"
   ]
  },
  {
   "cell_type": "markdown",
   "id": "176bac23",
   "metadata": {},
   "source": [
    "## How to use Tavily Search as Tool in Langchain"
   ]
  },
  {
   "cell_type": "code",
   "execution_count": 8,
   "id": "22c94005",
   "metadata": {},
   "outputs": [
    {
     "name": "stderr",
     "output_type": "stream",
     "text": [
      "C:\\Users\\akrjs\\AppData\\Local\\Temp\\ipykernel_17988\\2046832624.py:3: LangChainDeprecationWarning: The class `TavilySearchResults` was deprecated in LangChain 0.3.25 and will be removed in 1.0. An updated version of the class exists in the :class:`~langchain-tavily package and should be used instead. To use it run `pip install -U :class:`~langchain-tavily` and import as `from :class:`~langchain_tavily import TavilySearch``.\n",
      "  tool = TavilySearchResults(max_results=2)\n"
     ]
    },
    {
     "data": {
      "text/plain": [
       "[{'title': 'Next LangGraph Glossary - Overview',\n",
       "  'url': 'https://langchain-ai.github.io/langgraph/concepts/low_level/',\n",
       "  'content': 'In LangGraph, nodes are typically python functions (sync or async) where the **first** positional argument is the [state](https://langchain-ai.github.io/langgraph/concepts/low_level/#state), and (optionally), the **second** positional argument is a \"config\", containing optional [configurable parameters](https://langchain-ai.github.io/langgraph/concepts/low_level/#configuration) (such as a `thread_id`). [...] 2.   [`Nodes`](https://langchain-ai.github.io/langgraph/concepts/low_level/#nodes): Python functions that encode the logic of your agents. They receive the current `State` as input, perform some computation or side-effect, and return an updated `State`.\\n\\n3.   [`Edges`](https://langchain-ai.github.io/langgraph/concepts/low_level/#edges): Python functions that determine which `Node` to execute next based on the current `State`. They can be conditional branches or fixed transitions. [...] By composing `Nodes` and `Edges`, you can create complex, looping workflows that evolve the `State` over time. The real power, though, comes from how LangGraph manages that `State`. To emphasize: `Nodes` and `Edges` are nothing more than Python functions - they can contain an LLM or just good ol\\' Python code.\\n\\nIn short: _nodes do the work, edges tell what to do next_.',\n",
       "  'score': 0.8923472},\n",
       " {'title': 'A Comprehensive Guide About Langgraph: Code Included - Ionio',\n",
       "  'url': 'https://www.ionio.ai/blog/a-comprehensive-guide-about-langgraph-code-included',\n",
       "  'content': 'A node can be any function or tool your agent uses in langgraph and these nodes are connected with other nodes using edges. Every workflow ends with a “END” node in langgraph which shows the end of workflow. You also need to define a starting node which will be the starting point of your workflow. Optionally, you can also define an ending node if you know the ending point of your workflow.\\n\\nLet’s create 2 functions and use them as a node\\n\\n```py [...] *   **Workflow Automation:** \\xa0LangGraph can automate complex workflows that involve multiple steps and decision points. By defining the steps as nodes in the graph and the decision logic as edges, LangGraph can handle complex tasks easily. Langgraph can also make complex RAG systems easy to visualize and implement.',\n",
       "  'score': 0.8896154}]"
      ]
     },
     "execution_count": 8,
     "metadata": {},
     "output_type": "execute_result"
    }
   ],
   "source": [
    "from langchain_community.tools.tavily_search import TavilySearchResults\n",
    "\n",
    "tool = TavilySearchResults(max_results=2)\n",
    "tool.invoke(\"What is a 'node' in Langgraph?\")"
   ]
  },
  {
   "cell_type": "markdown",
   "id": "406e1e18",
   "metadata": {},
   "source": [
    "## Binding tools"
   ]
  },
  {
   "cell_type": "code",
   "execution_count": null,
   "id": "2cc798d2",
   "metadata": {},
   "outputs": [],
   "source": []
  },
  {
   "cell_type": "code",
   "execution_count": null,
   "id": "fcceff24",
   "metadata": {},
   "outputs": [
    {
     "data": {
      "text/plain": [
       "[{'name': 'multiply',\n",
       "  'args': {'a': 3, 'b': 12},\n",
       "  'id': 'call_ZSBWh10FRMu9pOhILcmhhZoj',\n",
       "  'type': 'tool_call'},\n",
       " {'name': 'add',\n",
       "  'args': {'a': 11, 'b': 49},\n",
       "  'id': 'call_muWBC8p5IjKWCgUn3rBaRTqv',\n",
       "  'type': 'tool_call'}]"
      ]
     },
     "execution_count": 36,
     "metadata": {},
     "output_type": "execute_result"
    }
   ],
   "source": [
    "os.environ[\"OPENAI_API_KEY\"] = \"sk-...\"\n",
    "\n",
    "\n",
    "from langchain_core.tools import tool\n",
    "@tool\n",
    "def add(a: int, b: int) -> int:\n",
    "    \"\"\"Adds a and b\n",
    "    \n",
    "    Args:\n",
    "        a: first int\n",
    "        b: second int\"\"\"\n",
    "    return a + b\n",
    "\n",
    "@tool\n",
    "def multiply(a: int, b: int) -> int:\n",
    "    \"\"\"Multiplies a and b\n",
    "    \n",
    "    Args:\n",
    "        a: first int\n",
    "        b: second int\"\"\"\n",
    "    return a * b\n",
    "\n",
    "tools = [add, multiply]\n",
    "\n",
    "from langchain_openai import ChatOpenAI\n",
    "\n",
    "llm = ChatOpenAI(model=\"gpt-4o\")\n",
    "llm_with_tools = llm.bind_tools(tools)\n",
    "\n",
    "query = \"What is 3 * 12? Also, what is 11 + 49?\"\n",
    "\n",
    "llm_with_tools.invoke(query).tool_calls\n",
    "\n"
   ]
  },
  {
   "cell_type": "code",
   "execution_count": 37,
   "id": "70c80756",
   "metadata": {},
   "outputs": [],
   "source": [
    "from langchain_openai import ChatOpenAI\n",
    "\n",
    "llm = ChatOpenAI(model=\"gpt-4o\")\n",
    "llm_with_tools = llm.bind_tools(tools)\n"
   ]
  },
  {
   "cell_type": "code",
   "execution_count": 38,
   "id": "9051eaeb",
   "metadata": {},
   "outputs": [
    {
     "data": {
      "text/plain": [
       "[{'name': 'multiply',\n",
       "  'args': {'a': 3, 'b': 12},\n",
       "  'id': 'call_iTDBwmPLbEVCezDsWcYu1DIt',\n",
       "  'type': 'tool_call'},\n",
       " {'name': 'add',\n",
       "  'args': {'a': 11, 'b': 49},\n",
       "  'id': 'call_77iKTleY8Vn8x2UEvBU1Rn06',\n",
       "  'type': 'tool_call'}]"
      ]
     },
     "execution_count": 38,
     "metadata": {},
     "output_type": "execute_result"
    }
   ],
   "source": [
    "query = \"What is 3 * 12? Also, what is 11 + 49?\"\n",
    "\n",
    "llm_with_tools.invoke(query).tool_calls"
   ]
  },
  {
   "cell_type": "code",
   "execution_count": 40,
   "id": "4a27c52a",
   "metadata": {},
   "outputs": [
    {
     "data": {
      "text/plain": [
       "[]"
      ]
     },
     "execution_count": 40,
     "metadata": {},
     "output_type": "execute_result"
    }
   ],
   "source": [
    "query = \"What is 12 / 3?\"\n",
    "llm_with_tools.invoke(query).tool_calls"
   ]
  },
  {
   "cell_type": "markdown",
   "id": "453b5a4f",
   "metadata": {},
   "source": [
    "## Apply to Tavily Search"
   ]
  },
  {
   "cell_type": "code",
   "execution_count": 41,
   "id": "4dab71ae",
   "metadata": {},
   "outputs": [],
   "source": [
    "from langchain_openai import ChatOpenAI\n",
    "\n",
    "tool = TavilySearchResults(max_results=2)\n",
    "tools = [tool]\n",
    "\n",
    "llm = ChatOpenAI(model=\"gpt-4o\")\n",
    "llm_with_tools = llm.bind_tools(tools)"
   ]
  },
  {
   "cell_type": "code",
   "execution_count": 42,
   "id": "81256c67",
   "metadata": {},
   "outputs": [
    {
     "data": {
      "text/plain": [
       "AIMessage(content='안녕하세요! 무엇을 도와드릴까요?', additional_kwargs={'refusal': None}, response_metadata={'token_usage': {'completion_tokens': 12, 'prompt_tokens': 81, 'total_tokens': 93, 'completion_tokens_details': {'accepted_prediction_tokens': 0, 'audio_tokens': 0, 'reasoning_tokens': 0, 'rejected_prediction_tokens': 0}, 'prompt_tokens_details': {'audio_tokens': 0, 'cached_tokens': 0}}, 'model_name': 'gpt-4o-2024-08-06', 'system_fingerprint': 'fp_a288987b44', 'id': 'chatcmpl-BkYhGwbdWErPJW1ZLDKZoFA2jLpCI', 'service_tier': 'default', 'finish_reason': 'stop', 'logprobs': None}, id='run--7ed99d18-f813-4399-b58d-8b0e482f4eb6-0', usage_metadata={'input_tokens': 81, 'output_tokens': 12, 'total_tokens': 93, 'input_token_details': {'audio': 0, 'cache_read': 0}, 'output_token_details': {'audio': 0, 'reasoning': 0}})"
      ]
     },
     "execution_count": 42,
     "metadata": {},
     "output_type": "execute_result"
    }
   ],
   "source": [
    "llm_with_tools.invoke(\"안녕\")"
   ]
  },
  {
   "cell_type": "markdown",
   "id": "a652fa41",
   "metadata": {},
   "source": [
    "## Langgraph - Web search + LLM = 검색 Chatbot\n",
    " - Node - 실제 작업을 수행하는 단위\n",
    " "
   ]
  },
  {
   "cell_type": "markdown",
   "id": "8fde5d9a",
   "metadata": {},
   "source": [
    "### chatbot"
   ]
  },
  {
   "cell_type": "code",
   "execution_count": 43,
   "id": "96d47882",
   "metadata": {},
   "outputs": [
    {
     "data": {
      "text/plain": [
       "<langgraph.graph.state.StateGraph at 0x1df23a3b150>"
      ]
     },
     "execution_count": 43,
     "metadata": {},
     "output_type": "execute_result"
    }
   ],
   "source": [
    "from typing import Annotated\n",
    "from typing_extensions import TypedDict\n",
    "\n",
    "from langgraph.graph import StateGraph, START, END\n",
    "from langgraph.graph.message import add_messages\n",
    "\n",
    "class State(TypedDict):\n",
    "    messages: Annotated[list, add_messages]\n",
    "\n",
    "graph_builder = StateGraph(State)\n",
    "\n",
    "def chatbot(state: State):\n",
    "    return {\"messages\": [llm_with_tools.invoke(state[\"messages\"])]}\n",
    "\n",
    "graph_builder.add_node(\"chatbot\", chatbot)\n",
    "\n"
   ]
  },
  {
   "cell_type": "markdown",
   "id": "e496b02e",
   "metadata": {},
   "source": [
    "### tools"
   ]
  },
  {
   "cell_type": "code",
   "execution_count": 44,
   "id": "d265a060",
   "metadata": {},
   "outputs": [
    {
     "data": {
      "text/plain": [
       "<langgraph.graph.state.StateGraph at 0x1df23a3b150>"
      ]
     },
     "execution_count": 44,
     "metadata": {},
     "output_type": "execute_result"
    }
   ],
   "source": [
    "import json\n",
    "from langchain_core.messages import ToolMessage\n",
    "\n",
    "class BasicToolNode:\n",
    "    \"\"\"\n",
    "        A node that runs the tools requested in the last AIMessage.\n",
    "        마지막 AIMessage에서 요청된 도구를 실행하는 노드\n",
    "    \"\"\"\n",
    "\n",
    "    def __init__(self, tools: list) -> None:\n",
    "        self.tools_by_name = {tool.name: tool for tool in tools} # [\"tavily_search_results_json\" : TavilySearchResults()]\n",
    "\n",
    "    def __call__(self, inputs: dict):\n",
    "        if messages := inputs.get(\"messages\", []):\n",
    "            message = messages[-1] # 마지막 message\n",
    "        else:\n",
    "            raise ValueError(\"No message found in input\")\n",
    "        outputs = []\n",
    "        for tool_call in message.tool_calls: # 메시지에서 호출된 도구를 불러옴\n",
    "            tool_result = self.tools_by_name[tool_call[\"name\"]].invoke( # Tool 호출 실행\n",
    "                tool_call[\"args\"]\n",
    "            )\n",
    "            outputs.append( # Tool 호출 결과(ToolMessage) 추가\n",
    "                ToolMessage(\n",
    "                    content=json.dumps(tool_result),\n",
    "                    name=tool_call[\"name\"],\n",
    "                    tool_call_id=tool_call[\"id\"],\n",
    "                )\n",
    "            )\n",
    "        return {\"messages\": outputs}\n",
    "\n",
    "tool_node = BasicToolNode(tools=[tool])\n",
    "graph_builder.add_node(\"tools\", tool_node)"
   ]
  },
  {
   "cell_type": "markdown",
   "id": "e4af76f3",
   "metadata": {},
   "source": [
    "### Edge - 노드 간의 연결 "
   ]
  },
  {
   "cell_type": "markdown",
   "id": "d956f87b",
   "metadata": {},
   "source": [
    " - 조건부 엣지, 라우팅"
   ]
  },
  {
   "cell_type": "code",
   "execution_count": 45,
   "id": "11919f1a",
   "metadata": {},
   "outputs": [
    {
     "data": {
      "text/plain": [
       "<langgraph.graph.state.StateGraph at 0x1df23a3b150>"
      ]
     },
     "execution_count": 45,
     "metadata": {},
     "output_type": "execute_result"
    }
   ],
   "source": [
    "def route_tools(\n",
    "    state: State,\n",
    "):\n",
    "    \"\"\"\n",
    "    Use in the conditional_edge to route to the ToolNode if the last message\n",
    "    has tool calls. Otherwise, route to the end.\n",
    "    \"\"\"\n",
    "    if isinstance(state, list):\n",
    "        ai_message = state[-1]\n",
    "    elif messages := state.get(\"messages\", []):\n",
    "        ai_message = messages[-1]\n",
    "    else:\n",
    "        raise ValueError(f\"No messages found in input state to tool_edge: {state}\")\n",
    "    if hasattr(ai_message, \"tool_calls\") and len(ai_message.tool_calls) > 0: # if the last message has \"tool_calls\"\n",
    "        return \"tools\"\n",
    "    return END\n",
    "\n",
    "# 조건부 엣지 연결\n",
    "graph_builder.add_conditional_edges(\n",
    "    \"chatbot\", # 시작 노드\n",
    "    route_tools,\n",
    "    {\"tools\": \"tools\", END: END}, # 반환값이 \"tools\" 면 \"tools\" 노드로, END 면 END로 이동\n",
    ")"
   ]
  },
  {
   "cell_type": "code",
   "execution_count": 46,
   "id": "b66038a8",
   "metadata": {},
   "outputs": [],
   "source": [
    "# 엣지 연결\n",
    "graph_builder.add_edge(\"tools\", \"chatbot\") # 도구가 호출될 때마다 챗봇으로 돌아가 다음 단계를 결정\n",
    "graph_builder.add_edge(START, \"chatbot\")\n",
    "graph = graph_builder.compile()"
   ]
  },
  {
   "cell_type": "markdown",
   "id": "17e82abb",
   "metadata": {},
   "source": [
    "### 그래프 시각화"
   ]
  },
  {
   "cell_type": "code",
   "execution_count": 47,
   "id": "44d9f9c5",
   "metadata": {},
   "outputs": [
    {
     "data": {
      "image/png": "[encoded data removed]",
      "text/plain": [
       "<IPython.core.display.Image object>"
      ]
     },
     "metadata": {},
     "output_type": "display_data"
    }
   ],
   "source": [
    "from IPython.display import Image, display\n",
    "\n",
    "try:\n",
    "    display(Image(graph.get_graph().draw_mermaid_png()))\n",
    "except Exception:\n",
    "    # This requires some extra dependencies and is optional\n",
    "    pass"
   ]
  },
  {
   "cell_type": "markdown",
   "id": "45b649fe",
   "metadata": {},
   "source": [
    "### 실행"
   ]
  },
  {
   "cell_type": "code",
   "execution_count": 48,
   "id": "86b70e91",
   "metadata": {},
   "outputs": [],
   "source": [
    "def stream_graph_updates(user_input: str):\n",
    "    for event in graph.stream({\"messages\": [{\"role\": \"user\", \"content\": user_input}]}): # graph 노드 호출 결과 받아옴\n",
    "        for value in event.values():\n",
    "            print(\"Assistant:\", value[\"messages\"][-1].content) # AI 답변 출력"
   ]
  },
  {
   "cell_type": "code",
   "execution_count": 49,
   "id": "f38c3cb7",
   "metadata": {},
   "outputs": [
    {
     "name": "stdout",
     "output_type": "stream",
     "text": [
      "Assistant: 챗봇(Chatbot)은 인공지능(AI) 기술을 기반으로 하여 사람들이 자연어로 대화할 수 있게 만든 프로그램입니다. 주로 텍스트나 음성을 통해 사용자와 상호작용하며, 질문에 답하거나 정보를 제공하고, 특정 작업을 수행하는 등 다양한 기능을 제공합니다. 챗봇은 고객 서비스, 정보 제공, 예약 업무, 심리 상담 등 여러 분야에서 활용되고 있으며, 대화의 맥락을 이해하고 인간과 유사하게 반응하도록 설계되었습니다.\n",
      "Goodbye!\n"
     ]
    }
   ],
   "source": [
    "while True:\n",
    "    try:\n",
    "        user_input = input(\"User: \")\n",
    "        if user_input.lower() in [\"quit\", \"exit\", \"q\"]:\n",
    "            print(\"Goodbye!\")\n",
    "            break\n",
    "\n",
    "        stream_graph_updates(user_input)\n",
    "    except:\n",
    "        # fallback if input() is not available\n",
    "        user_input = \"What do you know about LangGraph?\"\n",
    "        print(\"User: \" + user_input)\n",
    "        stream_graph_updates(user_input)\n",
    "        break"
   ]
  },
  {
   "cell_type": "code",
   "execution_count": null,
   "id": "6343beae",
   "metadata": {},
   "outputs": [],
   "source": []
  }
 ],
 "metadata": {
  "kernelspec": {
   "display_name": "ai-basic-llm-sHDGIrQn-py3.11",
   "language": "python",
   "name": "python3"
  },
  "language_info": {
   "codemirror_mode": {
    "name": "ipython",
    "version": 3
   },
   "file_extension": ".py",
   "mimetype": "text/x-python",
   "name": "python",
   "nbconvert_exporter": "python",
   "pygments_lexer": "ipython3",
   "version": "3.11.9"
  }
 },
 "nbformat": 4,
 "nbformat_minor": 5
}
